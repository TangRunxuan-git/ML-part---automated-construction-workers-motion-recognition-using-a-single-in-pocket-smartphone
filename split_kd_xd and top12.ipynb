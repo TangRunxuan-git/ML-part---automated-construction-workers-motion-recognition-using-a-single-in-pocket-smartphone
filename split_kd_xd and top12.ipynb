{
 "cells": [
  {
   "cell_type": "code",
   "execution_count": 4,
   "metadata": {},
   "outputs": [
    {
     "name": "stderr",
     "output_type": "stream",
     "text": [
      "C:\\Users\\唐润璇\\AppData\\Local\\Temp\\ipykernel_16228\\4168786507.py:17: DtypeWarning: Columns (24) have mixed types. Specify dtype option on import or set low_memory=False.\n",
      "  df = pd.read_csv(file_path)\n",
      "C:\\Users\\唐润璇\\AppData\\Local\\Temp\\ipykernel_16228\\4168786507.py:17: DtypeWarning: Columns (24) have mixed types. Specify dtype option on import or set low_memory=False.\n",
      "  df = pd.read_csv(file_path)\n"
     ]
    },
    {
     "name": "stdout",
     "output_type": "stream",
     "text": [
      "数据已成功分离并保存为各自对应的 _kd.csv 和 _xd.csv 文件\n"
     ]
    }
   ],
   "source": [
    "import pandas as pd\n",
    "\n",
    "# 定义文件路径列表\n",
    "file_paths = [\n",
    "    r\"D:\\科研项目\\中介by王培儒\\Runxuan\\Carpenter1.csv\",\n",
    "    r\"D:\\科研项目\\中介by王培儒\\Runxuan\\Carpenter2.csv\",\n",
    "    r\"D:\\科研项目\\中介by王培儒\\Runxuan\\Masonry1.csv\",\n",
    "    r\"D:\\科研项目\\中介by王培儒\\Runxuan\\Masonry2.csv\",\n",
    "    r\"D:\\科研项目\\中介by王培儒\\Runxuan\\Rebar1.csv\",\n",
    "    r\"D:\\科研项目\\中介by王培儒\\Runxuan\\Rebar2.csv\",\n",
    "    r\"D:\\科研项目\\中介by王培儒\\Runxuan\\Rebar3.csv\"\n",
    "]\n",
    "\n",
    "# 遍历每个文件\n",
    "for file_path in file_paths:\n",
    "    # 读取CSV文件\n",
    "    df = pd.read_csv(file_path)\n",
    "    \n",
    "    # 根据position标签分割数据\n",
    "    kd_df = df[df['position'] == 'kd']\n",
    "    xd_df = df[df['position'] == 'xd']\n",
    "    \n",
    "    # 选择前12个特征和最后一个作为标签\n",
    "    kd_selected = kd_df.iloc[:, :12].join(kd_df.iloc[:, -1])\n",
    "    xd_selected = xd_df.iloc[:, :12].join(xd_df.iloc[:, -1])\n",
    "    \n",
    "    # 构造输出文件名\n",
    "    base_name = os.path.splitext(os.path.basename(file_path))[0]\n",
    "    kd_output_file = f\"D:\\\\科研项目\\\\中介by王培儒\\\\Runxuan\\\\{base_name}_kd.csv\"\n",
    "    xd_output_file = f\"D:\\\\科研项目\\\\中介by王培儒\\\\Runxuan\\\\{base_name}_xd.csv\"\n",
    "    \n",
    "    # 保存处理后的数据到单独的CSV文件\n",
    "    kd_selected.to_csv(kd_output_file, index=False)\n",
    "    xd_selected.to_csv(xd_output_file, index=False)\n",
    "\n",
    "print(\"数据已成功分离并保存为各自对应的 _kd.csv 和 _xd.csv 文件\")"
   ]
  }
 ],
 "metadata": {
  "kernelspec": {
   "display_name": "Python 3",
   "language": "python",
   "name": "python3"
  },
  "language_info": {
   "codemirror_mode": {
    "name": "ipython",
    "version": 3
   },
   "file_extension": ".py",
   "mimetype": "text/x-python",
   "name": "python",
   "nbconvert_exporter": "python",
   "pygments_lexer": "ipython3",
   "version": "3.9.0"
  }
 },
 "nbformat": 4,
 "nbformat_minor": 2
}
